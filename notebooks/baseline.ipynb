{
 "cells": [
  {
   "cell_type": "code",
   "execution_count": 1,
   "id": "abc7602c",
   "metadata": {},
   "outputs": [],
   "source": [
    "from glob import glob\n",
    "import numpy as np\n",
    "import pandas as pd\n",
    "import matplotlib.pyplot as plt\n",
    "import tensorflow_io as tfio\n",
    "import tensorflow as tf"
   ]
  },
  {
   "cell_type": "markdown",
   "id": "ceac0de8",
   "metadata": {},
   "source": [
    "###\n"
   ]
  },
  {
   "cell_type": "code",
   "execution_count": 2,
   "id": "79e6255f",
   "metadata": {},
   "outputs": [],
   "source": [
    "import wandb"
   ]
  },
  {
   "cell_type": "code",
   "execution_count": 3,
   "id": "c41cbb9c",
   "metadata": {},
   "outputs": [
    {
     "name": "stderr",
     "output_type": "stream",
     "text": [
      "\u001b[34m\u001b[1mwandb\u001b[0m: Currently logged in as: \u001b[33myingying\u001b[0m (use `wandb login --relogin` to force relogin)\n"
     ]
    },
    {
     "data": {
      "text/plain": [
       "True"
      ]
     },
     "execution_count": 3,
     "metadata": {},
     "output_type": "execute_result"
    }
   ],
   "source": [
    "wandb.login()"
   ]
  },
  {
   "cell_type": "code",
   "execution_count": 5,
   "id": "3874c5eb",
   "metadata": {},
   "outputs": [
    {
     "data": {
      "text/html": [
       "\n",
       "                Tracking run with wandb version 0.10.28<br/>\n",
       "                Syncing run <strong style=\"color:#cdcd00\">zany-plant-1</strong> to <a href=\"https://wandb.ai\" target=\"_blank\">Weights & Biases</a> <a href=\"https://docs.wandb.com/integrations/jupyter.html\" target=\"_blank\">(Documentation)</a>.<br/>\n",
       "                Project page: <a href=\"https://wandb.ai/yingying/flowers_identification\" target=\"_blank\">https://wandb.ai/yingying/flowers_identification</a><br/>\n",
       "                Run page: <a href=\"https://wandb.ai/yingying/flowers_identification/runs/1nec8eno\" target=\"_blank\">https://wandb.ai/yingying/flowers_identification/runs/1nec8eno</a><br/>\n",
       "                Run data is saved locally in <code>/Users/yingying/Documents/project/birdsong_recognition/wandb/run-20210430_212013-1nec8eno</code><br/><br/>\n",
       "            "
      ],
      "text/plain": [
       "<IPython.core.display.HTML object>"
      ]
     },
     "metadata": {},
     "output_type": "display_data"
    },
    {
     "data": {
      "text/html": [
       "<h1>Run(1nec8eno)</h1><iframe src=\"https://wandb.ai/yingying/flowers_identification/runs/1nec8eno\" style=\"border:none;width:100%;height:400px\"></iframe>"
      ],
      "text/plain": [
       "<wandb.sdk.wandb_run.Run at 0x14bee2b80>"
      ]
     },
     "execution_count": 5,
     "metadata": {},
     "output_type": "execute_result"
    }
   ],
   "source": [
    "wandb.init(project='flowers_identification', config={'learning_rate': 1e-3})"
   ]
  },
  {
   "cell_type": "code",
   "execution_count": 9,
   "id": "95784450",
   "metadata": {},
   "outputs": [
    {
     "data": {
      "text/html": [
       "<br/>Waiting for W&B process to finish, PID 92455<br/>Program ended successfully."
      ],
      "text/plain": [
       "<IPython.core.display.HTML object>"
      ]
     },
     "metadata": {},
     "output_type": "display_data"
    },
    {
     "data": {
      "application/vnd.jupyter.widget-view+json": {
       "model_id": "",
       "version_major": 2,
       "version_minor": 0
      },
      "text/plain": [
       "VBox(children=(Label(value=' 0.00MB of 0.00MB uploaded (0.00MB deduped)\\r'), FloatProgress(value=1.0, max=1.0)…"
      ]
     },
     "metadata": {},
     "output_type": "display_data"
    },
    {
     "data": {
      "text/html": [
       "Find user logs for this run at: <code>/Users/yingying/Documents/project/birdsong_recognition/wandb/run-20210430_212013-1nec8eno/logs/debug.log</code>"
      ],
      "text/plain": [
       "<IPython.core.display.HTML object>"
      ]
     },
     "metadata": {},
     "output_type": "display_data"
    },
    {
     "data": {
      "text/html": [
       "Find internal logs for this run at: <code>/Users/yingying/Documents/project/birdsong_recognition/wandb/run-20210430_212013-1nec8eno/logs/debug-internal.log</code>"
      ],
      "text/plain": [
       "<IPython.core.display.HTML object>"
      ]
     },
     "metadata": {},
     "output_type": "display_data"
    },
    {
     "data": {
      "text/html": [
       "Synced 4 W&B file(s), 0 media file(s), 0 artifact file(s) and 0 other file(s)"
      ],
      "text/plain": [
       "<IPython.core.display.HTML object>"
      ]
     },
     "metadata": {},
     "output_type": "display_data"
    },
    {
     "data": {
      "text/html": [
       "\n",
       "                    <br/>Synced <strong style=\"color:#cdcd00\">zany-plant-1</strong>: <a href=\"https://wandb.ai/yingying/flowers_identification/runs/1nec8eno\" target=\"_blank\">https://wandb.ai/yingying/flowers_identification/runs/1nec8eno</a><br/>\n",
       "                "
      ],
      "text/plain": [
       "<IPython.core.display.HTML object>"
      ]
     },
     "metadata": {},
     "output_type": "display_data"
    }
   ],
   "source": [
    "wandb.finish()"
   ]
  },
  {
   "cell_type": "code",
   "execution_count": 7,
   "id": "ef36d472",
   "metadata": {},
   "outputs": [],
   "source": [
    "import tensorflow as tf"
   ]
  },
  {
   "cell_type": "code",
   "execution_count": 6,
   "id": "56add2b3",
   "metadata": {},
   "outputs": [],
   "source": [
    "dataset_url = \"https://storage.googleapis.com/download.tensorflow.org/example_images/flower_photos.tgz\""
   ]
  },
  {
   "cell_type": "code",
   "execution_count": null,
   "id": "2cf3340a",
   "metadata": {},
   "outputs": [],
   "source": [
    "data_dir = tf.keras.utils.get_file('flower_photos', origin=dataset_url, extract=True)"
   ]
  },
  {
   "cell_type": "code",
   "execution_count": 8,
   "id": "a127ce0a",
   "metadata": {},
   "outputs": [
    {
     "data": {
      "text/plain": [
       "\u001b[0;31mSignature:\u001b[0m\n",
       "\u001b[0mtf\u001b[0m\u001b[0;34m.\u001b[0m\u001b[0mkeras\u001b[0m\u001b[0;34m.\u001b[0m\u001b[0mutils\u001b[0m\u001b[0;34m.\u001b[0m\u001b[0mget_file\u001b[0m\u001b[0;34m(\u001b[0m\u001b[0;34m\u001b[0m\n",
       "\u001b[0;34m\u001b[0m    \u001b[0mfname\u001b[0m\u001b[0;34m,\u001b[0m\u001b[0;34m\u001b[0m\n",
       "\u001b[0;34m\u001b[0m    \u001b[0morigin\u001b[0m\u001b[0;34m,\u001b[0m\u001b[0;34m\u001b[0m\n",
       "\u001b[0;34m\u001b[0m    \u001b[0muntar\u001b[0m\u001b[0;34m=\u001b[0m\u001b[0;32mFalse\u001b[0m\u001b[0;34m,\u001b[0m\u001b[0;34m\u001b[0m\n",
       "\u001b[0;34m\u001b[0m    \u001b[0mmd5_hash\u001b[0m\u001b[0;34m=\u001b[0m\u001b[0;32mNone\u001b[0m\u001b[0;34m,\u001b[0m\u001b[0;34m\u001b[0m\n",
       "\u001b[0;34m\u001b[0m    \u001b[0mfile_hash\u001b[0m\u001b[0;34m=\u001b[0m\u001b[0;32mNone\u001b[0m\u001b[0;34m,\u001b[0m\u001b[0;34m\u001b[0m\n",
       "\u001b[0;34m\u001b[0m    \u001b[0mcache_subdir\u001b[0m\u001b[0;34m=\u001b[0m\u001b[0;34m'datasets'\u001b[0m\u001b[0;34m,\u001b[0m\u001b[0;34m\u001b[0m\n",
       "\u001b[0;34m\u001b[0m    \u001b[0mhash_algorithm\u001b[0m\u001b[0;34m=\u001b[0m\u001b[0;34m'auto'\u001b[0m\u001b[0;34m,\u001b[0m\u001b[0;34m\u001b[0m\n",
       "\u001b[0;34m\u001b[0m    \u001b[0mextract\u001b[0m\u001b[0;34m=\u001b[0m\u001b[0;32mFalse\u001b[0m\u001b[0;34m,\u001b[0m\u001b[0;34m\u001b[0m\n",
       "\u001b[0;34m\u001b[0m    \u001b[0marchive_format\u001b[0m\u001b[0;34m=\u001b[0m\u001b[0;34m'auto'\u001b[0m\u001b[0;34m,\u001b[0m\u001b[0;34m\u001b[0m\n",
       "\u001b[0;34m\u001b[0m    \u001b[0mcache_dir\u001b[0m\u001b[0;34m=\u001b[0m\u001b[0;32mNone\u001b[0m\u001b[0;34m,\u001b[0m\u001b[0;34m\u001b[0m\n",
       "\u001b[0;34m\u001b[0m\u001b[0;34m)\u001b[0m\u001b[0;34m\u001b[0m\u001b[0;34m\u001b[0m\u001b[0m\n",
       "\u001b[0;31mDocstring:\u001b[0m\n",
       "Downloads a file from a URL if it not already in the cache.\n",
       "\n",
       "By default the file at the url `origin` is downloaded to the\n",
       "cache_dir `~/.keras`, placed in the cache_subdir `datasets`,\n",
       "and given the filename `fname`. The final location of a file\n",
       "`example.txt` would therefore be `~/.keras/datasets/example.txt`.\n",
       "\n",
       "Files in tar, tar.gz, tar.bz, and zip formats can also be extracted.\n",
       "Passing a hash will verify the file after download. The command line\n",
       "programs `shasum` and `sha256sum` can compute the hash.\n",
       "\n",
       "Example:\n",
       "\n",
       "```python\n",
       "path_to_downloaded_file = tf.keras.utils.get_file(\n",
       "    \"flower_photos\",\n",
       "    \"https://storage.googleapis.com/download.tensorflow.org/example_images/flower_photos.tgz\",\n",
       "    untar=True)\n",
       "```\n",
       "\n",
       "Arguments:\n",
       "    fname: Name of the file. If an absolute path `/path/to/file.txt` is\n",
       "        specified the file will be saved at that location.\n",
       "    origin: Original URL of the file.\n",
       "    untar: Deprecated in favor of `extract` argument.\n",
       "        boolean, whether the file should be decompressed\n",
       "    md5_hash: Deprecated in favor of `file_hash` argument.\n",
       "        md5 hash of the file for verification\n",
       "    file_hash: The expected hash string of the file after download.\n",
       "        The sha256 and md5 hash algorithms are both supported.\n",
       "    cache_subdir: Subdirectory under the Keras cache dir where the file is\n",
       "        saved. If an absolute path `/path/to/folder` is\n",
       "        specified the file will be saved at that location.\n",
       "    hash_algorithm: Select the hash algorithm to verify the file.\n",
       "        options are `'md5'`, `'sha256'`, and `'auto'`.\n",
       "        The default 'auto' detects the hash algorithm in use.\n",
       "    extract: True tries extracting the file as an Archive, like tar or zip.\n",
       "    archive_format: Archive format to try for extracting the file.\n",
       "        Options are `'auto'`, `'tar'`, `'zip'`, and `None`.\n",
       "        `'tar'` includes tar, tar.gz, and tar.bz files.\n",
       "        The default `'auto'` corresponds to `['tar', 'zip']`.\n",
       "        None or an empty list will return no matches found.\n",
       "    cache_dir: Location to store cached files, when None it\n",
       "        defaults to the default directory `~/.keras/`.\n",
       "\n",
       "Returns:\n",
       "    Path to the downloaded file\n",
       "\u001b[0;31mFile:\u001b[0m      ~/Envs/tf2/lib/python3.8/site-packages/tensorflow/python/keras/utils/data_utils.py\n",
       "\u001b[0;31mType:\u001b[0m      function\n"
      ]
     },
     "metadata": {},
     "output_type": "display_data"
    }
   ],
   "source": [
    "tf.keras.utils.get_file?"
   ]
  },
  {
   "cell_type": "code",
   "execution_count": null,
   "id": "cf387af7",
   "metadata": {},
   "outputs": [],
   "source": []
  }
 ],
 "metadata": {
  "kernelspec": {
   "display_name": "tf2",
   "language": "python",
   "name": "tf2"
  },
  "language_info": {
   "codemirror_mode": {
    "name": "ipython",
    "version": 3
   },
   "file_extension": ".py",
   "mimetype": "text/x-python",
   "name": "python",
   "nbconvert_exporter": "python",
   "pygments_lexer": "ipython3",
   "version": "3.8.5"
  }
 },
 "nbformat": 4,
 "nbformat_minor": 5
}
